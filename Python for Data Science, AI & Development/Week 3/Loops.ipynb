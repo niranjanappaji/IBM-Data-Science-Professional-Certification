{
 "cells": [
  {
   "cell_type": "markdown",
   "metadata": {},
   "source": [
    "### Loops in Python"
   ]
  },
  {
   "cell_type": "markdown",
   "metadata": {},
   "source": [
    "#### Loops : Range"
   ]
  },
  {
   "cell_type": "code",
   "execution_count": 1,
   "metadata": {},
   "outputs": [
    {
     "data": {
      "text/plain": [
       "range(0, 4)"
      ]
     },
     "execution_count": 1,
     "metadata": {},
     "output_type": "execute_result"
    }
   ],
   "source": [
    "range(4)"
   ]
  },
  {
   "cell_type": "markdown",
   "metadata": {},
   "source": [
    "#### For Loop "
   ]
  },
  {
   "cell_type": "code",
   "execution_count": 4,
   "metadata": {},
   "outputs": [
    {
     "name": "stdout",
     "output_type": "stream",
     "text": [
      "1982\n",
      "1980\n",
      "1973\n"
     ]
    }
   ],
   "source": [
    "dates = [1982, 1980, 1973]\n",
    "N = len(dates)\n",
    "N\n",
    "\n",
    "for i in range(N):\n",
    "    print(dates[i])"
   ]
  },
  {
   "cell_type": "code",
   "execution_count": 5,
   "metadata": {},
   "outputs": [
    {
     "name": "stdout",
     "output_type": "stream",
     "text": [
      "0\n",
      "1\n",
      "2\n",
      "3\n",
      "4\n",
      "5\n",
      "6\n",
      "7\n"
     ]
    }
   ],
   "source": [
    "for i in range(0,8):\n",
    "    print(i)"
   ]
  },
  {
   "cell_type": "markdown",
   "metadata": {},
   "source": [
    "#### In python we can directly access the elements in the lists as follows"
   ]
  },
  {
   "cell_type": "code",
   "execution_count": 8,
   "metadata": {},
   "outputs": [
    {
     "name": "stdout",
     "output_type": "stream",
     "text": [
      "1982\n",
      "1980\n",
      "1973\n"
     ]
    }
   ],
   "source": [
    "for yr in dates:\n",
    "    print(yr)"
   ]
  },
  {
   "cell_type": "code",
   "execution_count": 12,
   "metadata": {},
   "outputs": [
    {
     "name": "stdout",
     "output_type": "stream",
     "text": [
      "Before:  red\n",
      "After:  White\n",
      "Before:  yellow\n",
      "After:  White\n",
      "Before:  orange\n",
      "After:  White\n",
      "Before:  blue\n",
      "After:  White\n",
      "Before:  pink\n",
      "After:  White\n"
     ]
    }
   ],
   "source": [
    "# Use for loop to change the element in the list\n",
    "\n",
    "squares = ['red', 'yellow', 'orange', 'blue', 'pink']\n",
    "\n",
    "for i in range(len(squares)):\n",
    "    print(\"Before: \", squares[i])\n",
    "    squares[i] = \"White\"\n",
    "    print(\"After: \", squares[i])\n",
    "    "
   ]
  },
  {
   "cell_type": "markdown",
   "metadata": {},
   "source": [
    "#### To access the index and the element in the list:"
   ]
  },
  {
   "cell_type": "code",
   "execution_count": 13,
   "metadata": {},
   "outputs": [
    {
     "name": "stdout",
     "output_type": "stream",
     "text": [
      "0 White\n",
      "1 White\n",
      "2 White\n",
      "3 White\n",
      "4 White\n"
     ]
    }
   ],
   "source": [
    "for i, color in enumerate(squares):\n",
    "    print(i, color)"
   ]
  },
  {
   "cell_type": "code",
   "execution_count": 14,
   "metadata": {},
   "outputs": [
    {
     "name": "stdout",
     "output_type": "stream",
     "text": [
      "Before:  red\n",
      "After:  White\n",
      "Before:  yellow\n",
      "After:  White\n",
      "Before:  orange\n",
      "After:  White\n",
      "Before:  blue\n",
      "After:  White\n",
      "Before:  pink\n",
      "After:  White\n"
     ]
    }
   ],
   "source": [
    "squares = ['red', 'yellow', 'orange', 'blue', 'pink']\n",
    "\n",
    "for color in squares:\n",
    "    print(\"Before: \", color)\n",
    "    color = \"White\"\n",
    "    print(\"After: \", color)\n",
    "    "
   ]
  },
  {
   "cell_type": "markdown",
   "metadata": {},
   "source": [
    "### While Loop"
   ]
  },
  {
   "cell_type": "code",
   "execution_count": 18,
   "metadata": {},
   "outputs": [
    {
     "name": "stdout",
     "output_type": "stream",
     "text": [
      "1980\n",
      "1983\n",
      "1998\n",
      "It took 3 iterations to come out of the loop\n"
     ]
    }
   ],
   "source": [
    "dates = [1980, 1983, 1998, 2002]\n",
    "\n",
    "i = 0 \n",
    "year = dates[0]\n",
    "\n",
    "while(year < 2002):\n",
    "    print(year)\n",
    "    i = i + 1\n",
    "    year = dates[i]\n",
    "    \n",
    "print(\"It took\", i, \"iterations to come out of the loop\")"
   ]
  },
  {
   "cell_type": "code",
   "execution_count": null,
   "metadata": {},
   "outputs": [],
   "source": []
  }
 ],
 "metadata": {
  "kernelspec": {
   "display_name": "Python 3",
   "language": "python",
   "name": "python3"
  },
  "language_info": {
   "codemirror_mode": {
    "name": "ipython",
    "version": 3
   },
   "file_extension": ".py",
   "mimetype": "text/x-python",
   "name": "python",
   "nbconvert_exporter": "python",
   "pygments_lexer": "ipython3",
   "version": "3.8.5"
  }
 },
 "nbformat": 4,
 "nbformat_minor": 4
}
