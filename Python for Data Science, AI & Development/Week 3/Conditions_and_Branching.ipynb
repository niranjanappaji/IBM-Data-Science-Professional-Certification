{
 "cells": [
  {
   "cell_type": "markdown",
   "metadata": {},
   "source": [
    "### Conditions in Python"
   ]
  },
  {
   "cell_type": "markdown",
   "metadata": {},
   "source": [
    "#### Comparison Operators"
   ]
  },
  {
   "cell_type": "code",
   "execution_count": 3,
   "metadata": {},
   "outputs": [
    {
     "data": {
      "text/plain": [
       "False"
      ]
     },
     "execution_count": 3,
     "metadata": {},
     "output_type": "execute_result"
    }
   ],
   "source": [
    "# Condition equal\n",
    "\n",
    "a = 5\n",
    "a == 6"
   ]
  },
  {
   "cell_type": "code",
   "execution_count": 7,
   "metadata": {},
   "outputs": [
    {
     "data": {
      "text/plain": [
       "False"
      ]
     },
     "execution_count": 7,
     "metadata": {},
     "output_type": "execute_result"
    }
   ],
   "source": [
    "# Greater than sign\n",
    "\n",
    "i = 15\n",
    "i > 5\n",
    "\n",
    "j = 15\n",
    "j > 25"
   ]
  },
  {
   "cell_type": "code",
   "execution_count": 9,
   "metadata": {},
   "outputs": [
    {
     "data": {
      "text/plain": [
       "False"
      ]
     },
     "execution_count": 9,
     "metadata": {},
     "output_type": "execute_result"
    }
   ],
   "source": [
    "# Inequality sign\n",
    "\n",
    "i = 2\n",
    "i != 6\n",
    "\n",
    "i != 2"
   ]
  },
  {
   "cell_type": "code",
   "execution_count": 10,
   "metadata": {},
   "outputs": [
    {
     "data": {
      "text/plain": [
       "False"
      ]
     },
     "execution_count": 10,
     "metadata": {},
     "output_type": "execute_result"
    }
   ],
   "source": [
    "# Use equality sign to compare the strings\n",
    "\n",
    "\"ACDC\" == \"Michael Jackson\""
   ]
  },
  {
   "cell_type": "code",
   "execution_count": 11,
   "metadata": {},
   "outputs": [
    {
     "data": {
      "text/plain": [
       "True"
      ]
     },
     "execution_count": 11,
     "metadata": {},
     "output_type": "execute_result"
    }
   ],
   "source": [
    "\"ACDC\" != \"Michael Jackson\""
   ]
  },
  {
   "cell_type": "code",
   "execution_count": 13,
   "metadata": {},
   "outputs": [
    {
     "data": {
      "text/plain": [
       "False"
      ]
     },
     "execution_count": 13,
     "metadata": {},
     "output_type": "execute_result"
    }
   ],
   "source": [
    "# Compare Characters based on ASCII codes\n",
    "\n",
    "'B' > 'A'\n",
    "'B'< 'A'"
   ]
  },
  {
   "cell_type": "code",
   "execution_count": 14,
   "metadata": {},
   "outputs": [
    {
     "data": {
      "text/plain": [
       "True"
      ]
     },
     "execution_count": 14,
     "metadata": {},
     "output_type": "execute_result"
    }
   ],
   "source": [
    "'BA' > 'AB'"
   ]
  },
  {
   "cell_type": "markdown",
   "metadata": {},
   "source": [
    "#### Branching"
   ]
  },
  {
   "cell_type": "code",
   "execution_count": 15,
   "metadata": {},
   "outputs": [
    {
     "name": "stdout",
     "output_type": "stream",
     "text": [
      "you can enter\n",
      "Move on\n"
     ]
    }
   ],
   "source": [
    "# If statement Example\n",
    "\n",
    "age = 19\n",
    "\n",
    "if age > 18:\n",
    "    print(\"you can enter\")\n",
    "    \n",
    "print(\"Move on\")"
   ]
  },
  {
   "cell_type": "code",
   "execution_count": 16,
   "metadata": {},
   "outputs": [
    {
     "name": "stdout",
     "output_type": "stream",
     "text": [
      "You can enter ACDC\n",
      "Move on\n"
     ]
    }
   ],
   "source": [
    "# Else statement\n",
    "\n",
    "age = 19\n",
    "\n",
    "if age > 18:\n",
    "    print(\"You can enter ACDC\")\n",
    "else:\n",
    "    print(\"go see Michael Jackson\")\n",
    "    \n",
    "print(\"Move on\")"
   ]
  },
  {
   "cell_type": "code",
   "execution_count": 18,
   "metadata": {},
   "outputs": [
    {
     "name": "stdout",
     "output_type": "stream",
     "text": [
      "go home\n",
      "move on\n"
     ]
    }
   ],
   "source": [
    "# Elif statement\n",
    "\n",
    "age = 16\n",
    "\n",
    "if age > 18:\n",
    "    print(\"You can enter ACDC\")\n",
    "elif age == 18:\n",
    "    print(\"see Michael Jackson\")\n",
    "else:\n",
    "    print(\"go home\")\n",
    "\n",
    "print(\"move on\")"
   ]
  },
  {
   "cell_type": "code",
   "execution_count": 20,
   "metadata": {},
   "outputs": [
    {
     "name": "stdout",
     "output_type": "stream",
     "text": [
      "Album year is greater than  1980\n",
      "do something\n"
     ]
    }
   ],
   "source": [
    "# Condition statement example\n",
    "\n",
    "album_yr = 1989\n",
    "#album_yr = 1977\n",
    "\n",
    "if album_yr > 1980:\n",
    "    print(\"Album year is greater than  1980\")\n",
    "    \n",
    "\n",
    "print(\"do something\")"
   ]
  },
  {
   "cell_type": "code",
   "execution_count": 22,
   "metadata": {},
   "outputs": [
    {
     "name": "stdout",
     "output_type": "stream",
     "text": [
      "Album year is less than 1980\n",
      "do something\n"
     ]
    }
   ],
   "source": [
    "album_yr = 1989\n",
    "album_yr = 1977\n",
    "\n",
    "if album_yr > 1980:\n",
    "    print(\"Album year is greater than  1980\")\n",
    "    \n",
    "else:\n",
    "    print(\"Album year is less than 1980\")\n",
    "    \n",
    "print(\"do something\")\n",
    "\n"
   ]
  },
  {
   "cell_type": "markdown",
   "metadata": {},
   "source": [
    "#### Logical Operators"
   ]
  },
  {
   "cell_type": "code",
   "execution_count": 25,
   "metadata": {},
   "outputs": [
    {
     "name": "stdout",
     "output_type": "stream",
     "text": [
      "Album was released in 1980s\n",
      "do something\n"
     ]
    }
   ],
   "source": [
    "# and operator\n",
    "\n",
    "album_year = 1980\n",
    "\n",
    "if album_year >= 1980 and album_year < 1990:\n",
    "    print(\"Album was released in 1980s\")\n",
    "\n",
    "print(\"do something\")"
   ]
  },
  {
   "cell_type": "code",
   "execution_count": 27,
   "metadata": {},
   "outputs": [
    {
     "name": "stdout",
     "output_type": "stream",
     "text": [
      "Album was not released in 1980s\n",
      "do something\n"
     ]
    }
   ],
   "source": [
    "# or operator\n",
    "\n",
    "album_year = 1990\n",
    "\n",
    "if album_year < 1980 or album_year > 1989:\n",
    "    print(\"Album was not released in 1980s\")\n",
    "else:\n",
    "    print(\"Album was made in 1980s\")\n",
    "    \n",
    "\n",
    "print(\"do something\")"
   ]
  },
  {
   "cell_type": "code",
   "execution_count": 31,
   "metadata": {},
   "outputs": [
    {
     "name": "stdout",
     "output_type": "stream",
     "text": [
      "Album is not made in the year 1983\n"
     ]
    }
   ],
   "source": [
    "# not statement\n",
    "\n",
    "album_year = 1984\n",
    "\n",
    "if not(album_year == 1983):\n",
    "    print(\"Album is not made in the year 1983\")\n",
    "else:\n",
    "    print(\"Album made in the year 1983\")"
   ]
  },
  {
   "cell_type": "code",
   "execution_count": null,
   "metadata": {},
   "outputs": [],
   "source": []
  }
 ],
 "metadata": {
  "kernelspec": {
   "display_name": "Python 3",
   "language": "python",
   "name": "python3"
  },
  "language_info": {
   "codemirror_mode": {
    "name": "ipython",
    "version": 3
   },
   "file_extension": ".py",
   "mimetype": "text/x-python",
   "name": "python",
   "nbconvert_exporter": "python",
   "pygments_lexer": "ipython3",
   "version": "3.8.5"
  }
 },
 "nbformat": 4,
 "nbformat_minor": 4
}
