{
 "cells": [
  {
   "cell_type": "markdown",
   "metadata": {},
   "source": [
    "### Writing Files"
   ]
  },
  {
   "cell_type": "code",
   "execution_count": 3,
   "metadata": {},
   "outputs": [],
   "source": [
    "# Write line to file\n",
    "\n",
    "ex2 = \"C:\\\\Users\\\\sspnia\\\\Desktop\\\\Niranjan\\\\Niranjan Work\\\\IBM Data Science\\\\Hands On Exercises\\\\Week 4\\\\Example2.txt\"\n",
    "\n",
    "with open(ex2, \"w\") as wrtfile:\n",
    "    wrtfile.write(\"This is Line 1\")"
   ]
  },
  {
   "cell_type": "code",
   "execution_count": 6,
   "metadata": {},
   "outputs": [
    {
     "name": "stdout",
     "output_type": "stream",
     "text": [
      "This is line A\n",
      "This is line B\n",
      "\n"
     ]
    }
   ],
   "source": [
    "with open(ex2, \"r\") as readfile:\n",
    "    print(readfile.read())"
   ]
  },
  {
   "cell_type": "code",
   "execution_count": 5,
   "metadata": {},
   "outputs": [],
   "source": [
    "# Write lines to file\n",
    "\n",
    "with open(ex2, \"w\") as wrtfile:\n",
    "    wrtfile.write(\"This is line A\\n\")\n",
    "    wrtfile.write(\"This is line B\\n\")"
   ]
  },
  {
   "cell_type": "markdown",
   "metadata": {},
   "source": [
    "#### Write a list to a .txt file"
   ]
  },
  {
   "cell_type": "code",
   "execution_count": 9,
   "metadata": {},
   "outputs": [
    {
     "name": "stdout",
     "output_type": "stream",
     "text": [
      "['This is line A\\n', 'This is line B\\n', 'This is line C\\n']\n"
     ]
    }
   ],
   "source": [
    "# Sample list of text\n",
    "\n",
    "Lines = [\"This is line A\\n\", \"This is line B\\n\", \"This is line C\\n\"]\n",
    "print(Lines)"
   ]
  },
  {
   "cell_type": "code",
   "execution_count": 11,
   "metadata": {},
   "outputs": [
    {
     "name": "stdout",
     "output_type": "stream",
     "text": [
      "This is line A\n",
      "\n",
      "This is line B\n",
      "\n",
      "This is line C\n",
      "\n"
     ]
    }
   ],
   "source": [
    "with open(ex2, \"w\") as wrtfile:\n",
    "    for line in Lines:\n",
    "        print(line)\n",
    "        wrtfile.write(line)"
   ]
  },
  {
   "cell_type": "code",
   "execution_count": 16,
   "metadata": {},
   "outputs": [
    {
     "name": "stdout",
     "output_type": "stream",
     "text": [
      "Overwrite\n",
      "\n"
     ]
    }
   ],
   "source": [
    "# However, note that setting the mode to \"w\" overwrites all the existing data in the file.\n",
    "\n",
    "with open(ex2, \"w\") as wrtfile:\n",
    "    wrtfile.write(\"Overwrite\\n\")\n",
    "    \n",
    "with open(ex2, \"r\") as rdfile:\n",
    "    print(rdfile.read())"
   ]
  },
  {
   "cell_type": "markdown",
   "metadata": {},
   "source": [
    "#### Appending Files"
   ]
  },
  {
   "cell_type": "code",
   "execution_count": 42,
   "metadata": {},
   "outputs": [],
   "source": [
    "with open(ex2, \"w\") as wrtfile:\n",
    "    wrtfile.write(\"This is line A\\n\")\n",
    "    wrtfile.write(\"This is line B\\n\")"
   ]
  },
  {
   "cell_type": "code",
   "execution_count": 43,
   "metadata": {},
   "outputs": [
    {
     "name": "stdout",
     "output_type": "stream",
     "text": [
      "This is line A\n",
      "This is line B\n",
      "\n"
     ]
    }
   ],
   "source": [
    "with open(ex2, \"r\") as rdfile:\n",
    "    print(rdfile.read())"
   ]
  },
  {
   "cell_type": "code",
   "execution_count": 44,
   "metadata": {},
   "outputs": [],
   "source": [
    "#Appending Lines to the file\n",
    "\n",
    "with open(ex2, \"a\") as appnd:\n",
    "    appnd.write(\"This is line C\\n\")\n",
    "    appnd.write(\"This is line D\\n\")\n",
    "    appnd.write(\"This is line E\\n\")"
   ]
  },
  {
   "cell_type": "code",
   "execution_count": 45,
   "metadata": {},
   "outputs": [
    {
     "name": "stdout",
     "output_type": "stream",
     "text": [
      "This is line A\n",
      "This is line B\n",
      "This is line C\n",
      "This is line D\n",
      "This is line E\n",
      "\n"
     ]
    }
   ],
   "source": [
    "with open(ex2, \"r\") as rdfile:\n",
    "    print(rdfile.read())"
   ]
  },
  {
   "cell_type": "markdown",
   "metadata": {},
   "source": [
    "#### Additional Modes"
   ]
  },
  {
   "cell_type": "markdown",
   "metadata": {},
   "source": [
    "- r+ : Reading and writing. Cannot truncate the file.\n",
    "- w+ : Writing and reading. Truncates the file.\n",
    "- a+ : Appending and Reading. Creates a new file, if none exists"
   ]
  },
  {
   "cell_type": "code",
   "execution_count": 46,
   "metadata": {},
   "outputs": [
    {
     "name": "stdout",
     "output_type": "stream",
     "text": [
      "\n"
     ]
    }
   ],
   "source": [
    "with open(ex2, \"a+\") as appndrd:\n",
    "    appndrd.write(\"This is line F\\n\")\n",
    "    print(appndrd.read())"
   ]
  },
  {
   "cell_type": "markdown",
   "metadata": {},
   "source": [
    "- .tell() - returns the current position in bytes\n",
    "- .seek(offset,from) - changes the position by 'offset' bytes with respect to 'from'. From can take the value of 0,1,2 corresponding to beginning, relative to current position and end"
   ]
  },
  {
   "cell_type": "code",
   "execution_count": 66,
   "metadata": {},
   "outputs": [
    {
     "name": "stdout",
     "output_type": "stream",
     "text": [
      "Initial location: 96\n",
      "Read Nothing\n",
      "New location: 0\n",
      "This is line A\n",
      "This is line B\n",
      "This is line C\n",
      "This is line D\n",
      "This is line E\n",
      "This is line F\n",
      "\n",
      "Location after read: 96\n"
     ]
    }
   ],
   "source": [
    "with open(ex2, \"a+\") as appndrd:\n",
    "    print(\"Initial location: {}\".format(appndrd.tell()))\n",
    "    \n",
    "    data = appndrd.read()\n",
    "    \n",
    "    if (not data):\n",
    "        print(\"Read Nothing\")\n",
    "    else:\n",
    "        print(appndrd.read())\n",
    "        \n",
    "    appndrd.seek(0,0)\n",
    "    \n",
    "    print(\"New location: {}\".format(appndrd.tell()))\n",
    "    data = appndrd.read()\n",
    "    if (not data):\n",
    "        print(\"Read Nothing\")\n",
    "    else:\n",
    "        print(data)\n",
    "        \n",
    "    print(\"Location after read: {}\".format(appndrd.tell()))"
   ]
  },
  {
   "cell_type": "markdown",
   "metadata": {},
   "source": [
    "- Finally, a note on the difference between w+ and r+. Both of these modes allow access to read and write methods, However opening a file in w+ overwrites it and deletes all existing data.\n",
    "- To work with a file on existing data, use r+ and a+. While using r+, it can be useful to add a .truncate() method at the end of your data. This will reduce the file to your data and delete everything that follows.\n",
    "- In the following code block, Run the code as it is first and then run it with the .truncate()."
   ]
  },
  {
   "cell_type": "code",
   "execution_count": 79,
   "metadata": {},
   "outputs": [
    {
     "name": "stdout",
     "output_type": "stream",
     "text": [
      "Initial location: 0\n",
      "Current location: 0\n",
      "After writing location: 34\n",
      "Line 1\n",
      "Line 2\n",
      "Line 3\n",
      "Finished\n",
      "\n"
     ]
    }
   ],
   "source": [
    "with open(ex2, \"r+\") as rdwrtfile:\n",
    "    print(\"Initial location: {}\".format(rdwrtfile.tell()))\n",
    "    data = rdwrtfile.readlines()\n",
    "    rdwrtfile.seek(0,0)\n",
    "    print(\"Current location: {}\".format(rdwrtfile.tell()))\n",
    "    \n",
    "    rdwrtfile.write(\"Line 1\" + \"\\n\")\n",
    "    rdwrtfile.write(\"Line 2\" + \"\\n\")\n",
    "    rdwrtfile.write(\"Line 3\" + \"\\n\")\n",
    "    rdwrtfile.write(\"Finished\\n\")\n",
    "    \n",
    "    print(\"After writing location: {}\".format(rdwrtfile.tell()))\n",
    "    #see the difference by commenting the truncate method\n",
    "    rdwrtfile.truncate()\n",
    "    rdwrtfile.seek(0,0)\n",
    "    print(rdwrtfile.read())\n",
    "    "
   ]
  },
  {
   "cell_type": "markdown",
   "metadata": {},
   "source": [
    "#### Copy a file"
   ]
  },
  {
   "cell_type": "code",
   "execution_count": 82,
   "metadata": {},
   "outputs": [],
   "source": [
    "ex3 = \"C:\\\\Users\\\\sspnia\\\\Desktop\\\\Niranjan\\\\Niranjan Work\\\\IBM Data Science\\\\Hands On Exercises\\\\Week 4\\\\Example3.txt\"\n",
    "\n",
    "with open(ex2, \"r\") as rdfile:\n",
    "    with open(ex3, \"w\") as wrtfile:\n",
    "        for line in rdfile:\n",
    "            wrtfile.write(line)"
   ]
  },
  {
   "cell_type": "code",
   "execution_count": 84,
   "metadata": {},
   "outputs": [
    {
     "name": "stdout",
     "output_type": "stream",
     "text": [
      "Line 1\n",
      "Line 2\n",
      "Line 3\n",
      "Finished\n",
      "\n"
     ]
    }
   ],
   "source": [
    "with open(ex3, \"r\") as rdfile:\n",
    "    print(rdfile.read())"
   ]
  },
  {
   "cell_type": "code",
   "execution_count": null,
   "metadata": {},
   "outputs": [],
   "source": []
  }
 ],
 "metadata": {
  "kernelspec": {
   "display_name": "Python 3",
   "language": "python",
   "name": "python3"
  },
  "language_info": {
   "codemirror_mode": {
    "name": "ipython",
    "version": 3
   },
   "file_extension": ".py",
   "mimetype": "text/x-python",
   "name": "python",
   "nbconvert_exporter": "python",
   "pygments_lexer": "ipython3",
   "version": "3.8.5"
  }
 },
 "nbformat": 4,
 "nbformat_minor": 4
}
