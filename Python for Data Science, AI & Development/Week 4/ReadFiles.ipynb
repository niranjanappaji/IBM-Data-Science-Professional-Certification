{
 "cells": [
  {
   "cell_type": "code",
   "execution_count": 1,
   "metadata": {},
   "outputs": [],
   "source": [
    "import urllib.request"
   ]
  },
  {
   "cell_type": "code",
   "execution_count": 2,
   "metadata": {},
   "outputs": [],
   "source": [
    "url = 'https://cf-courses-data.s3.us.cloud-object-storage.appdomain.cloud/IBMDeveloperSkillsNetwork-PY0101EN-SkillsNetwork/labs/Module%204/data/example1.txt'\n"
   ]
  },
  {
   "cell_type": "code",
   "execution_count": 3,
   "metadata": {},
   "outputs": [],
   "source": [
    "file1 = open(\"example1.txt\", 'r')"
   ]
  },
  {
   "cell_type": "code",
   "execution_count": 4,
   "metadata": {},
   "outputs": [
    {
     "data": {
      "text/plain": [
       "'example1.txt'"
      ]
     },
     "execution_count": 4,
     "metadata": {},
     "output_type": "execute_result"
    }
   ],
   "source": [
    "file1.name"
   ]
  },
  {
   "cell_type": "code",
   "execution_count": 5,
   "metadata": {},
   "outputs": [
    {
     "data": {
      "text/plain": [
       "'r'"
      ]
     },
     "execution_count": 5,
     "metadata": {},
     "output_type": "execute_result"
    }
   ],
   "source": [
    "file1.mode"
   ]
  },
  {
   "cell_type": "code",
   "execution_count": 6,
   "metadata": {},
   "outputs": [],
   "source": [
    "filecontent = file1.read()"
   ]
  },
  {
   "cell_type": "code",
   "execution_count": 7,
   "metadata": {},
   "outputs": [
    {
     "data": {
      "text/plain": [
       "'This is line 1 \\nThis is line 2\\nThis is line 3'"
      ]
     },
     "execution_count": 7,
     "metadata": {},
     "output_type": "execute_result"
    }
   ],
   "source": [
    "filecontent"
   ]
  },
  {
   "cell_type": "code",
   "execution_count": 8,
   "metadata": {},
   "outputs": [
    {
     "name": "stdout",
     "output_type": "stream",
     "text": [
      "This is line 1 \n",
      "This is line 2\n",
      "This is line 3\n"
     ]
    }
   ],
   "source": [
    "print(filecontent)"
   ]
  },
  {
   "cell_type": "code",
   "execution_count": 13,
   "metadata": {},
   "outputs": [
    {
     "data": {
      "text/plain": [
       "True"
      ]
     },
     "execution_count": 13,
     "metadata": {},
     "output_type": "execute_result"
    }
   ],
   "source": [
    "file1.close()\n",
    "file1.closed"
   ]
  },
  {
   "cell_type": "markdown",
   "metadata": {},
   "source": [
    "### A better way to open file"
   ]
  },
  {
   "cell_type": "code",
   "execution_count": 11,
   "metadata": {},
   "outputs": [
    {
     "name": "stdout",
     "output_type": "stream",
     "text": [
      "This is line 1 \n",
      "This is line 2\n",
      "This is line 3\n"
     ]
    }
   ],
   "source": [
    "with open(\"example1.txt\", 'r') as file1:\n",
    "    filecontent = file1.read()\n",
    "    print(filecontent)"
   ]
  },
  {
   "cell_type": "code",
   "execution_count": 12,
   "metadata": {},
   "outputs": [
    {
     "data": {
      "text/plain": [
       "True"
      ]
     },
     "execution_count": 12,
     "metadata": {},
     "output_type": "execute_result"
    }
   ],
   "source": [
    "file1.closed"
   ]
  },
  {
   "cell_type": "code",
   "execution_count": 14,
   "metadata": {},
   "outputs": [
    {
     "name": "stdout",
     "output_type": "stream",
     "text": [
      "This\n"
     ]
    }
   ],
   "source": [
    "# To read only first 4 characters in the file\n",
    "\n",
    "with open(\"example1.txt\", \"r\") as file2:\n",
    "    print(file2.read(4))"
   ]
  },
  {
   "cell_type": "code",
   "execution_count": 17,
   "metadata": {},
   "outputs": [
    {
     "name": "stdout",
     "output_type": "stream",
     "text": [
      "This is\n",
      " line 1 \n",
      "This i\n"
     ]
    }
   ],
   "source": [
    "### Similarly\n",
    "\n",
    "with open(\"example1.txt\", \"r\") as file2:\n",
    "    print(file2.read(7))\n",
    "    print(file2.read(15))"
   ]
  },
  {
   "cell_type": "markdown",
   "metadata": {},
   "source": [
    "#### Read one line of teh file at a time using method readline()"
   ]
  },
  {
   "cell_type": "code",
   "execution_count": 18,
   "metadata": {},
   "outputs": [
    {
     "name": "stdout",
     "output_type": "stream",
     "text": [
      "first line: This is line 1 \n",
      "\n"
     ]
    }
   ],
   "source": [
    "with open(\"example1.txt\", \"r\") as file3:\n",
    "    print(\"first line: \" + file3.readline())"
   ]
  },
  {
   "cell_type": "code",
   "execution_count": 21,
   "metadata": {},
   "outputs": [
    {
     "name": "stdout",
     "output_type": "stream",
     "text": [
      "first 20 characters of line 1: This is line 1 \n",
      "\n",
      "next 20 characters of the file: This is line 2\n",
      "This \n"
     ]
    }
   ],
   "source": [
    "# We can also pass an argument to readline() to specify the number of characters we want to read\n",
    "\n",
    "with open(\"example1.txt\", \"r\") as file4:\n",
    "    print(\"first 20 characters of line 1: \" + file4.readline(20))\n",
    "    print(\"next 20 characters of the file: \" + file4.read(20))"
   ]
  },
  {
   "cell_type": "code",
   "execution_count": 26,
   "metadata": {},
   "outputs": [
    {
     "name": "stdout",
     "output_type": "stream",
     "text": [
      "iteration  0 : This is line 1 \n",
      "\n",
      "iteration  1 : This is line 2\n",
      "\n",
      "iteration  2 : This is line 3\n"
     ]
    }
   ],
   "source": [
    "# Iterate through lines:\n",
    "\n",
    "with open(\"example1.txt\", \"r\") as file5:\n",
    "    i = 0\n",
    "    for line in file5:\n",
    "        print(\"iteration \", str(i),\":\",  line)\n",
    "        i = i + 1\n",
    "        "
   ]
  },
  {
   "cell_type": "code",
   "execution_count": 27,
   "metadata": {},
   "outputs": [],
   "source": [
    "# Read all lines and save as a list\n",
    "\n",
    "with open(\"example1.txt\", \"r\") as file6:\n",
    "    fileList = file6.readlines()"
   ]
  },
  {
   "cell_type": "code",
   "execution_count": 30,
   "metadata": {},
   "outputs": [
    {
     "data": {
      "text/plain": [
       "3"
      ]
     },
     "execution_count": 30,
     "metadata": {},
     "output_type": "execute_result"
    }
   ],
   "source": [
    "len(fileList)"
   ]
  },
  {
   "cell_type": "code",
   "execution_count": 31,
   "metadata": {},
   "outputs": [
    {
     "data": {
      "text/plain": [
       "'This is line 1 \\n'"
      ]
     },
     "execution_count": 31,
     "metadata": {},
     "output_type": "execute_result"
    }
   ],
   "source": [
    "fileList[0]"
   ]
  },
  {
   "cell_type": "code",
   "execution_count": 32,
   "metadata": {},
   "outputs": [
    {
     "data": {
      "text/plain": [
       "'This is line 3'"
      ]
     },
     "execution_count": 32,
     "metadata": {},
     "output_type": "execute_result"
    }
   ],
   "source": [
    "fileList[2]"
   ]
  },
  {
   "cell_type": "code",
   "execution_count": 2,
   "metadata": {},
   "outputs": [],
   "source": [
    "url = 'https://cf-courses-data.s3.us.cloud-object-storage.appdomain.cloud/IBMDeveloperSkillsNetwork-PY0101EN-SkillsNetwork/labs/Module%204/ex4.csv'"
   ]
  },
  {
   "cell_type": "code",
   "execution_count": 31,
   "metadata": {},
   "outputs": [],
   "source": [
    "file1 = \"ex4.csv\"\n",
    "\n",
    "\n",
    "def getAvg(file, N):\n",
    "    \n",
    "    row = 0\n",
    "    lastN = []\n",
    "    mean = [0]\n",
    "    \n",
    "    \n",
    "    with open(file1, \"r\") as rawdata:\n",
    "        for line in rawdata:\n",
    "            if (row == 0):\n",
    "                row = row + 1\n",
    "                continue\n",
    "            line = line.strip('\\n')\n",
    "            lineData = float(line.split(',')[1])\n",
    "            \n",
    "            print(lineData)\n",
    "            \n",
    "            if (row <= N):\n",
    "                lastN.append(lineData)\n",
    "                mean[0] = (lineData + mean[0]*(row-1))/row\n",
    "            \n",
    "            else:\n",
    "                mean.append(mean[row - N - 1] + (lineData - lastN[0])/N)\n",
    "                lastN = lastN[1:]\n",
    "                lastN.append(lineData)\n",
    "                \n",
    "            row = row + 1\n",
    "                \n",
    "            print(row)\n",
    "            print(lastN)\n",
    "            print(mean, '\\n')\n",
    "        return mean\n",
    "  "
   ]
  },
  {
   "cell_type": "code",
   "execution_count": 32,
   "metadata": {},
   "outputs": [
    {
     "name": "stdout",
     "output_type": "stream",
     "text": [
      "1.0\n",
      "2\n",
      "[1.0]\n",
      "[1.0] \n",
      "\n",
      "5.6\n",
      "3\n",
      "[5.6]\n",
      "[1.0, 5.6] \n",
      "\n",
      "4.1\n",
      "4\n",
      "[4.1]\n",
      "[1.0, 5.6, 4.1] \n",
      "\n",
      "4.0\n",
      "5\n",
      "[4.0]\n",
      "[1.0, 5.6, 4.1, 4.0] \n",
      "\n",
      "6.2\n",
      "6\n",
      "[6.2]\n",
      "[1.0, 5.6, 4.1, 4.0, 6.2] \n",
      "\n",
      "4.0\n",
      "7\n",
      "[4.0]\n",
      "[1.0, 5.6, 4.1, 4.0, 6.2, 4.0] \n",
      "\n",
      "3.4\n",
      "8\n",
      "[3.4]\n",
      "[1.0, 5.6, 4.1, 4.0, 6.2, 4.0, 3.4] \n",
      "\n",
      "6.0\n",
      "9\n",
      "[6.0]\n",
      "[1.0, 5.6, 4.1, 4.0, 6.2, 4.0, 3.4, 6.0] \n",
      "\n",
      "7.8\n",
      "10\n",
      "[7.8]\n",
      "[1.0, 5.6, 4.1, 4.0, 6.2, 4.0, 3.4, 6.0, 7.8] \n",
      "\n",
      "8.0\n",
      "11\n",
      "[8.0]\n",
      "[1.0, 5.6, 4.1, 4.0, 6.2, 4.0, 3.4, 6.0, 7.8, 8.0] \n",
      "\n",
      "9.0\n",
      "12\n",
      "[9.0]\n",
      "[1.0, 5.6, 4.1, 4.0, 6.2, 4.0, 3.4, 6.0, 7.8, 8.0, 9.0] \n",
      "\n",
      "3.0\n",
      "13\n",
      "[3.0]\n",
      "[1.0, 5.6, 4.1, 4.0, 6.2, 4.0, 3.4, 6.0, 7.8, 8.0, 9.0, 3.0] \n",
      "\n",
      "5.9\n",
      "14\n",
      "[5.9]\n",
      "[1.0, 5.6, 4.1, 4.0, 6.2, 4.0, 3.4, 6.0, 7.8, 8.0, 9.0, 3.0, 5.9] \n",
      "\n",
      "1.4\n",
      "15\n",
      "[1.4]\n",
      "[1.0, 5.6, 4.1, 4.0, 6.2, 4.0, 3.4, 6.0, 7.8, 8.0, 9.0, 3.0, 5.9, 1.4000000000000004] \n",
      "\n",
      "1.6\n",
      "16\n",
      "[1.6]\n",
      "[1.0, 5.6, 4.1, 4.0, 6.2, 4.0, 3.4, 6.0, 7.8, 8.0, 9.0, 3.0, 5.9, 1.4000000000000004, 1.6000000000000005] \n",
      "\n",
      "1.8\n",
      "17\n",
      "[1.8]\n",
      "[1.0, 5.6, 4.1, 4.0, 6.2, 4.0, 3.4, 6.0, 7.8, 8.0, 9.0, 3.0, 5.9, 1.4000000000000004, 1.6000000000000005, 1.8000000000000005] \n",
      "\n",
      "1.9\n",
      "18\n",
      "[1.9]\n",
      "[1.0, 5.6, 4.1, 4.0, 6.2, 4.0, 3.4, 6.0, 7.8, 8.0, 9.0, 3.0, 5.9, 1.4000000000000004, 1.6000000000000005, 1.8000000000000005, 1.9000000000000004] \n",
      "\n",
      "3.4\n",
      "19\n",
      "[3.4]\n",
      "[1.0, 5.6, 4.1, 4.0, 6.2, 4.0, 3.4, 6.0, 7.8, 8.0, 9.0, 3.0, 5.9, 1.4000000000000004, 1.6000000000000005, 1.8000000000000005, 1.9000000000000004, 3.4000000000000004] \n",
      "\n",
      "2.1\n",
      "20\n",
      "[2.1]\n",
      "[1.0, 5.6, 4.1, 4.0, 6.2, 4.0, 3.4, 6.0, 7.8, 8.0, 9.0, 3.0, 5.9, 1.4000000000000004, 1.6000000000000005, 1.8000000000000005, 1.9000000000000004, 3.4000000000000004, 2.1000000000000005] \n",
      "\n",
      "4.9\n",
      "21\n",
      "[4.9]\n",
      "[1.0, 5.6, 4.1, 4.0, 6.2, 4.0, 3.4, 6.0, 7.8, 8.0, 9.0, 3.0, 5.9, 1.4000000000000004, 1.6000000000000005, 1.8000000000000005, 1.9000000000000004, 3.4000000000000004, 2.1000000000000005, 4.9] \n",
      "\n",
      "2.3\n",
      "22\n",
      "[2.3]\n",
      "[1.0, 5.6, 4.1, 4.0, 6.2, 4.0, 3.4, 6.0, 7.8, 8.0, 9.0, 3.0, 5.9, 1.4000000000000004, 1.6000000000000005, 1.8000000000000005, 1.9000000000000004, 3.4000000000000004, 2.1000000000000005, 4.9, 2.3] \n",
      "\n",
      "9.1\n",
      "23\n",
      "[9.1]\n",
      "[1.0, 5.6, 4.1, 4.0, 6.2, 4.0, 3.4, 6.0, 7.8, 8.0, 9.0, 3.0, 5.9, 1.4000000000000004, 1.6000000000000005, 1.8000000000000005, 1.9000000000000004, 3.4000000000000004, 2.1000000000000005, 4.9, 2.3, 9.1] \n",
      "\n",
      "5.3\n",
      "24\n",
      "[5.3]\n",
      "[1.0, 5.6, 4.1, 4.0, 6.2, 4.0, 3.4, 6.0, 7.8, 8.0, 9.0, 3.0, 5.9, 1.4000000000000004, 1.6000000000000005, 1.8000000000000005, 1.9000000000000004, 3.4000000000000004, 2.1000000000000005, 4.9, 2.3, 9.1, 5.3] \n",
      "\n",
      "4.0\n",
      "25\n",
      "[4.0]\n",
      "[1.0, 5.6, 4.1, 4.0, 6.2, 4.0, 3.4, 6.0, 7.8, 8.0, 9.0, 3.0, 5.9, 1.4000000000000004, 1.6000000000000005, 1.8000000000000005, 1.9000000000000004, 3.4000000000000004, 2.1000000000000005, 4.9, 2.3, 9.1, 5.3, 4.0] \n",
      "\n",
      "6.0\n",
      "26\n",
      "[6.0]\n",
      "[1.0, 5.6, 4.1, 4.0, 6.2, 4.0, 3.4, 6.0, 7.8, 8.0, 9.0, 3.0, 5.9, 1.4000000000000004, 1.6000000000000005, 1.8000000000000005, 1.9000000000000004, 3.4000000000000004, 2.1000000000000005, 4.9, 2.3, 9.1, 5.3, 4.0, 6.0] \n",
      "\n",
      "7.6\n",
      "27\n",
      "[7.6]\n",
      "[1.0, 5.6, 4.1, 4.0, 6.2, 4.0, 3.4, 6.0, 7.8, 8.0, 9.0, 3.0, 5.9, 1.4000000000000004, 1.6000000000000005, 1.8000000000000005, 1.9000000000000004, 3.4000000000000004, 2.1000000000000005, 4.9, 2.3, 9.1, 5.3, 4.0, 6.0, 7.6] \n",
      "\n",
      "9.9\n",
      "28\n",
      "[9.9]\n",
      "[1.0, 5.6, 4.1, 4.0, 6.2, 4.0, 3.4, 6.0, 7.8, 8.0, 9.0, 3.0, 5.9, 1.4000000000000004, 1.6000000000000005, 1.8000000000000005, 1.9000000000000004, 3.4000000000000004, 2.1000000000000005, 4.9, 2.3, 9.1, 5.3, 4.0, 6.0, 7.6, 9.9] \n",
      "\n",
      "3.0\n",
      "29\n",
      "[3.0]\n",
      "[1.0, 5.6, 4.1, 4.0, 6.2, 4.0, 3.4, 6.0, 7.8, 8.0, 9.0, 3.0, 5.9, 1.4000000000000004, 1.6000000000000005, 1.8000000000000005, 1.9000000000000004, 3.4000000000000004, 2.1000000000000005, 4.9, 2.3, 9.1, 5.3, 4.0, 6.0, 7.6, 9.9, 3.0] \n",
      "\n",
      "2.2\n",
      "30\n",
      "[2.2]\n",
      "[1.0, 5.6, 4.1, 4.0, 6.2, 4.0, 3.4, 6.0, 7.8, 8.0, 9.0, 3.0, 5.9, 1.4000000000000004, 1.6000000000000005, 1.8000000000000005, 1.9000000000000004, 3.4000000000000004, 2.1000000000000005, 4.9, 2.3, 9.1, 5.3, 4.0, 6.0, 7.6, 9.9, 3.0, 2.2] \n",
      "\n",
      "5.4\n",
      "31\n",
      "[5.4]\n",
      "[1.0, 5.6, 4.1, 4.0, 6.2, 4.0, 3.4, 6.0, 7.8, 8.0, 9.0, 3.0, 5.9, 1.4000000000000004, 1.6000000000000005, 1.8000000000000005, 1.9000000000000004, 3.4000000000000004, 2.1000000000000005, 4.9, 2.3, 9.1, 5.3, 4.0, 6.0, 7.6, 9.9, 3.0, 2.2, 5.4] \n",
      "\n",
      "0.8\n",
      "32\n",
      "[0.8]\n",
      "[1.0, 5.6, 4.1, 4.0, 6.2, 4.0, 3.4, 6.0, 7.8, 8.0, 9.0, 3.0, 5.9, 1.4000000000000004, 1.6000000000000005, 1.8000000000000005, 1.9000000000000004, 3.4000000000000004, 2.1000000000000005, 4.9, 2.3, 9.1, 5.3, 4.0, 6.0, 7.6, 9.9, 3.0, 2.2, 5.4, 0.7999999999999998] \n",
      "\n"
     ]
    },
    {
     "data": {
      "text/plain": [
       "[1.0,\n",
       " 5.6,\n",
       " 4.1,\n",
       " 4.0,\n",
       " 6.2,\n",
       " 4.0,\n",
       " 3.4,\n",
       " 6.0,\n",
       " 7.8,\n",
       " 8.0,\n",
       " 9.0,\n",
       " 3.0,\n",
       " 5.9,\n",
       " 1.4000000000000004,\n",
       " 1.6000000000000005,\n",
       " 1.8000000000000005,\n",
       " 1.9000000000000004,\n",
       " 3.4000000000000004,\n",
       " 2.1000000000000005,\n",
       " 4.9,\n",
       " 2.3,\n",
       " 9.1,\n",
       " 5.3,\n",
       " 4.0,\n",
       " 6.0,\n",
       " 7.6,\n",
       " 9.9,\n",
       " 3.0,\n",
       " 2.2,\n",
       " 5.4,\n",
       " 0.7999999999999998]"
      ]
     },
     "execution_count": 32,
     "metadata": {},
     "output_type": "execute_result"
    }
   ],
   "source": [
    "getAvg(file1, 1)"
   ]
  },
  {
   "cell_type": "code",
   "execution_count": null,
   "metadata": {},
   "outputs": [],
   "source": []
  }
 ],
 "metadata": {
  "kernelspec": {
   "display_name": "Python 3",
   "language": "python",
   "name": "python3"
  },
  "language_info": {
   "codemirror_mode": {
    "name": "ipython",
    "version": 3
   },
   "file_extension": ".py",
   "mimetype": "text/x-python",
   "name": "python",
   "nbconvert_exporter": "python",
   "pygments_lexer": "ipython3",
   "version": "3.8.5"
  }
 },
 "nbformat": 4,
 "nbformat_minor": 4
}
