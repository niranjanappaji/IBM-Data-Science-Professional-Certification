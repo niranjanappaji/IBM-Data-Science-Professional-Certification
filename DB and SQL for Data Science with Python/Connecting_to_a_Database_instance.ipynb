{
 "cells": [
  {
   "cell_type": "code",
   "execution_count": 3,
   "metadata": {},
   "outputs": [
    {
     "name": "stdout",
     "output_type": "stream",
     "text": [
      "Collecting ibm_db\n",
      "  Downloading ibm_db-3.0.4.tar.gz (796 kB)\n",
      "Building wheels for collected packages: ibm-db\n",
      "  Building wheel for ibm-db (setup.py): started\n",
      "  Building wheel for ibm-db (setup.py): finished with status 'done'\n",
      "  Created wheel for ibm-db: filename=ibm_db-3.0.4-py3-none-any.whl size=27449765 sha256=52d2cc798b86ffb87f5735548a3568953f5ee160e686844e21adbd1496b86627\n",
      "  Stored in directory: c:\\users\\sspnia\\appdata\\local\\pip\\cache\\wheels\\d3\\b4\\35\\a36838dd28cd2a15e4df56e859803d0a0387069e0f951a013e\n",
      "Successfully built ibm-db\n",
      "Installing collected packages: ibm-db\n",
      "Successfully installed ibm-db-3.0.4\n"
     ]
    }
   ],
   "source": [
    "!pip install ibm_db"
   ]
  },
  {
   "cell_type": "code",
   "execution_count": 6,
   "metadata": {},
   "outputs": [],
   "source": [
    "import ibm_db"
   ]
  },
  {
   "cell_type": "code",
   "execution_count": 7,
   "metadata": {},
   "outputs": [],
   "source": [
    "dsn_hostname = \"dashdb-txn-sbox-yp-dal09-14.services.dal.bluemix.net\"\n",
    "dsn_uid = \"mwk25315\"\n",
    "dsn_pwd = \"rxn2vjqtsr3x7p+k\"\n",
    "dsn_driver = \"{IBM DB2 ODBC DRIVER}\"\n",
    "dsn_database = \"BLUDB\"\n",
    "dsn_port = \"50000\"\n",
    "dsn_protocol = \"TCPIP\""
   ]
  },
  {
   "cell_type": "markdown",
   "metadata": {},
   "source": [
    "### Create the DB2 Database COnnection"
   ]
  },
  {
   "cell_type": "code",
   "execution_count": 9,
   "metadata": {},
   "outputs": [
    {
     "name": "stdout",
     "output_type": "stream",
     "text": [
      "DRIVER={IBM DB2 ODBC DRIVER};DATABASE=BLUDB;HOSTNAME=dashdb-txn-sbox-yp-dal09-14.services.dal.bluemix.net;PORT=50000;PROTOCOL=TCPIP;UID=mwk25315;PWD=rxn2vjqtsr3x7p+k;\n"
     ]
    }
   ],
   "source": [
    "dsn = (\n",
    "    \"DRIVER={0};\"\n",
    "    \"DATABASE={1};\"\n",
    "    \"HOSTNAME={2};\"\n",
    "    \"PORT={3};\"\n",
    "    \"PROTOCOL={4};\"\n",
    "    \"UID={5};\"\n",
    "    \"PWD={6};\").format(dsn_driver, dsn_database, dsn_hostname, dsn_port, dsn_protocol, dsn_uid, dsn_pwd)\n",
    "\n",
    "print(dsn)"
   ]
  },
  {
   "cell_type": "code",
   "execution_count": 13,
   "metadata": {},
   "outputs": [
    {
     "name": "stdout",
     "output_type": "stream",
     "text": [
      "Connected to database:  BLUDB as user:  mwk25315 on host:  dashdb-txn-sbox-yp-dal09-14.services.dal.bluemix.net\n"
     ]
    }
   ],
   "source": [
    "try:\n",
    "    conn = ibm_db.connect(dsn, \"\", \"\")\n",
    "    print(\"Connected to database: \", dsn_database, \"as user: \", dsn_uid, \"on host: \", dsn_hostname)\n",
    "    \n",
    "except:\n",
    "    print(\"Unable to connect: \", ibm_db.conn_errormsg() )\n",
    "    "
   ]
  },
  {
   "cell_type": "code",
   "execution_count": 19,
   "metadata": {},
   "outputs": [
    {
     "name": "stdout",
     "output_type": "stream",
     "text": [
      "DBMS NAME:  DB2/LINUXX8664\n",
      "DBMS VER:  11.01.0404\n",
      "DB_NAME:  BLUDB\n"
     ]
    }
   ],
   "source": [
    "# Retrieve Metadata for the Database server\n",
    "\n",
    "server = ibm_db.server_info(conn)\n",
    "\n",
    "print(\"DBMS NAME: \", server.DBMS_NAME)\n",
    "print(\"DBMS VER: \", server.DBMS_VER)\n",
    "print(\"DB_NAME: \", server.DB_NAME)"
   ]
  },
  {
   "cell_type": "code",
   "execution_count": 28,
   "metadata": {},
   "outputs": [
    {
     "name": "stdout",
     "output_type": "stream",
     "text": [
      "DRIVER_NAME:  DB2CLI.DLL\n",
      "DRIVER_VER:  11.05.0500\n",
      "DATA_SOURCE_NAME:  BLUDB\n",
      "DRIVER_ODBC_VER:  03.51\n",
      "ODBC_VER:  03.01.0000\n",
      "ODBC_SQL_CONFORMANCE:  EXTENDED\n",
      "APPL_CODEPAGE:  1252\n",
      "CONN_CODEPAGE:  1208\n"
     ]
    }
   ],
   "source": [
    "# Retrieve Metadata for the Database client / Driver\n",
    "\n",
    "client = ibm_db.client_info(conn)\n",
    "print(\"DRIVER_NAME: \", client.DRIVER_NAME)\n",
    "print(\"DRIVER_VER: \", client.DRIVER_VER)\n",
    "print(\"DATA_SOURCE_NAME: \", client.DATA_SOURCE_NAME)\n",
    "print(\"DRIVER_ODBC_VER: \", client.DRIVER_ODBC_VER)\n",
    "print(\"ODBC_VER: \", client.ODBC_VER)\n",
    "print(\"ODBC_SQL_CONFORMANCE: \", client.ODBC_SQL_CONFORMANCE)\n",
    "print(\"APPL_CODEPAGE: \", client.APPL_CODEPAGE)\n",
    "print(\"CONN_CODEPAGE: \", client.CONN_CODEPAGE)"
   ]
  },
  {
   "cell_type": "markdown",
   "metadata": {},
   "source": [
    "#### Close the connection"
   ]
  },
  {
   "cell_type": "code",
   "execution_count": 29,
   "metadata": {},
   "outputs": [
    {
     "data": {
      "text/plain": [
       "True"
      ]
     },
     "execution_count": 29,
     "metadata": {},
     "output_type": "execute_result"
    }
   ],
   "source": [
    "ibm_db.close(conn)"
   ]
  },
  {
   "cell_type": "code",
   "execution_count": null,
   "metadata": {},
   "outputs": [],
   "source": []
  }
 ],
 "metadata": {
  "kernelspec": {
   "display_name": "Python 3",
   "language": "python",
   "name": "python3"
  },
  "language_info": {
   "codemirror_mode": {
    "name": "ipython",
    "version": 3
   },
   "file_extension": ".py",
   "mimetype": "text/x-python",
   "name": "python",
   "nbconvert_exporter": "python",
   "pygments_lexer": "ipython3",
   "version": "3.8.5"
  }
 },
 "nbformat": 4,
 "nbformat_minor": 4
}
