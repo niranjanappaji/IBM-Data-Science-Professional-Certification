{
 "cells": [
  {
   "cell_type": "markdown",
   "metadata": {},
   "source": [
    "# The Battle of Neighborhoods - IBM Data Science Capstone Project\n",
    "\n",
    "## Week 1"
   ]
  },
  {
   "cell_type": "markdown",
   "metadata": {},
   "source": [
    "### Introduction"
   ]
  },
  {
   "cell_type": "markdown",
   "metadata": {},
   "source": [
    "Singapore with an estimated 2019 population of 5.70 million, is the second-densest sovereign state in the world, after \n",
    "the microstate Monaco. Singapore is multiracial and multicultural country with ethnic Chinese (76.2% of the citizen population), Malays (15.0%), and ethnic Indians (7.4%). \n",
    "\n",
    "Singapore has marketed itself as a food paradise, and is home of some of Asia's best restaurants. Singapore food culture include the cuisines of the Malays, the Chinese and the Indians as well as Indonesian, and Western traditions (particularly English and Portuguese-influenced Eurasian, known as Kristang). Influences from neighbouring regions such as Japan, Korea, and Thailand are also majorly present.\n",
    "\n",
    "This means the restaurant business in singapore is highly competitive as there are variety of cuisines available to the customers. Thua any new business venture needs to be analysed carefully. The insights derived from analysis will give good understanding of the business environment which help in strategically targeting the market. "
   ]
  },
  {
   "cell_type": "markdown",
   "metadata": {},
   "source": [
    "### Problem Description"
   ]
  },
  {
   "cell_type": "markdown",
   "metadata": {},
   "source": [
    "It is pretty evident that to survive in a competitive market, it is very important to strategically plan.\n",
    "The objective of this project is to recommend the best neighborhood in Singapore to open a Thai Restaurant. "
   ]
  },
  {
   "cell_type": "markdown",
   "metadata": {},
   "source": [
    "### Target Audience"
   ]
  },
  {
   "cell_type": "markdown",
   "metadata": {},
   "source": [
    "The objective is to locate and recommend which neighborhood of Singapore will be best choice to start a Thai restaurant. The business owners also expects to understand the rationale of the recommendations made. \n",
    "\n",
    "This analysis will help:\n",
    "- the restaurant owners who wants to expand their business\n",
    "- to those who are looking to open a new restaurant "
   ]
  },
  {
   "cell_type": "markdown",
   "metadata": {},
   "source": [
    "## Data Download"
   ]
  },
  {
   "cell_type": "markdown",
   "metadata": {},
   "source": [
    "- To get the data, I made use of Airbnb data that was publicly shared on the internet. Download the listings.csv file from the below link: \n",
    "http://insideairbnb.com/get-the-data.html\n",
    "\n",
    "\n",
    "- The data contains Neighborhood_Groups, Neighborhoods, Latitude and Longitude data of Singapore along with other columns too. But I have made use of only these 4 columns. The Singapore Coordinates data in the file \"Singapore_coordinates.csv\" is imported in the project \n",
    "\n",
    "\n",
    "- To get the venue data, use Foursquare API using the link:\n",
    "https://foursquare.com/developers/apps"
   ]
  },
  {
   "cell_type": "code",
   "execution_count": 2,
   "metadata": {},
   "outputs": [
    {
     "data": {
      "text/html": [
       "<div>\n",
       "<style scoped>\n",
       "    .dataframe tbody tr th:only-of-type {\n",
       "        vertical-align: middle;\n",
       "    }\n",
       "\n",
       "    .dataframe tbody tr th {\n",
       "        vertical-align: top;\n",
       "    }\n",
       "\n",
       "    .dataframe thead th {\n",
       "        text-align: right;\n",
       "    }\n",
       "</style>\n",
       "<table border=\"1\" class=\"dataframe\">\n",
       "  <thead>\n",
       "    <tr style=\"text-align: right;\">\n",
       "      <th></th>\n",
       "      <th>neighbourhood_group</th>\n",
       "      <th>neighbourhood</th>\n",
       "      <th>latitude</th>\n",
       "      <th>longitude</th>\n",
       "    </tr>\n",
       "  </thead>\n",
       "  <tbody>\n",
       "    <tr>\n",
       "      <th>0</th>\n",
       "      <td>Central Region</td>\n",
       "      <td>Bishan</td>\n",
       "      <td>1.36000</td>\n",
       "      <td>103.83190</td>\n",
       "    </tr>\n",
       "    <tr>\n",
       "      <th>1</th>\n",
       "      <td>Central Region</td>\n",
       "      <td>Bukit Merah</td>\n",
       "      <td>1.27681</td>\n",
       "      <td>103.82381</td>\n",
       "    </tr>\n",
       "    <tr>\n",
       "      <th>2</th>\n",
       "      <td>Central Region</td>\n",
       "      <td>Bukit Timah</td>\n",
       "      <td>1.33235</td>\n",
       "      <td>103.78521</td>\n",
       "    </tr>\n",
       "    <tr>\n",
       "      <th>3</th>\n",
       "      <td>Central Region</td>\n",
       "      <td>Downtown Core</td>\n",
       "      <td>1.27663</td>\n",
       "      <td>103.84521</td>\n",
       "    </tr>\n",
       "    <tr>\n",
       "      <th>4</th>\n",
       "      <td>Central Region</td>\n",
       "      <td>Geylang</td>\n",
       "      <td>1.31698</td>\n",
       "      <td>103.89000</td>\n",
       "    </tr>\n",
       "  </tbody>\n",
       "</table>\n",
       "</div>"
      ],
      "text/plain": [
       "  neighbourhood_group  neighbourhood  latitude  longitude\n",
       "0      Central Region         Bishan   1.36000  103.83190\n",
       "1      Central Region    Bukit Merah   1.27681  103.82381\n",
       "2      Central Region    Bukit Timah   1.33235  103.78521\n",
       "3      Central Region  Downtown Core   1.27663  103.84521\n",
       "4      Central Region        Geylang   1.31698  103.89000"
      ]
     },
     "execution_count": 2,
     "metadata": {},
     "output_type": "execute_result"
    }
   ],
   "source": [
    "import pandas as pd # library for data analysis\n",
    "import numpy as np  # library for working with arrays\n",
    "\n",
    "singapore_df = pd.read_csv('Singapore_coodinates.csv')\n",
    "singapore_df.head()"
   ]
  },
  {
   "cell_type": "code",
   "execution_count": null,
   "metadata": {},
   "outputs": [],
   "source": []
  }
 ],
 "metadata": {
  "kernelspec": {
   "display_name": "Python 3",
   "language": "python",
   "name": "python3"
  },
  "language_info": {
   "codemirror_mode": {
    "name": "ipython",
    "version": 3
   },
   "file_extension": ".py",
   "mimetype": "text/x-python",
   "name": "python",
   "nbconvert_exporter": "python",
   "pygments_lexer": "ipython3",
   "version": "3.8.5"
  }
 },
 "nbformat": 4,
 "nbformat_minor": 4
}
